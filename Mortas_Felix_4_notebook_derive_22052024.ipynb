{
 "cells": [
  {
   "cell_type": "raw",
   "id": "83cc675d",
   "metadata": {},
   "source": [
    "[Quand une nouvelle commande arrive, il faut modifier/ajouter la fiche client avec la nouvelle commande. Puis, on prédit le cluster auquel appartient le client.\n",
    "A chaque fois, on regarde le silouhette score du modèle en ayant ajouté les données des nouveaux clients. Si il diminue trop, on peut penser que le modèle devient moins précis et qu'il faut le réentraîner.]\n",
    "Dans tous les cas, tous les mois, on réentraîne le modèle. On obtient donc un nouveau modèle.\n",
    "Ensuite, sur un même jeu de données, on fait des prédictions avec le modèle initial, le nouveau modèle, et le modèle n-1 (seulement si le modèle n-1 n'est pas le modèle de départ). Ensuite, on compare les cluster/features des 3 modèles avec la méthode ARI.\n",
    "Puis, suivre le ARI score au cours du temps\n",
    "=> comparer le ARI init vs new et n-1 vs n : permet de voir si c'est le client qui fait tout changer ou juste le temps qui fait dériver petit à petit"
   ]
  },
  {
   "cell_type": "markdown",
   "id": "7f6997ae",
   "metadata": {},
   "source": [
    "# Imports"
   ]
  },
  {
   "cell_type": "code",
   "execution_count": 1,
   "id": "eba22672",
   "metadata": {},
   "outputs": [],
   "source": [
    "# Libraries\n",
    "from datetime import datetime\n",
    "from fancyimpute import IterativeImputer\n",
    "import joblib\n",
    "import json\n",
    "import matplotlib.pyplot as plt\n",
    "from mpl_toolkits.mplot3d import Axes3D\n",
    "import numpy as np\n",
    "import os\n",
    "import pandas as pd\n",
    "\n",
    "import scipy.cluster.hierarchy as shc\n",
    "from scipy.cluster.hierarchy import linkage, fclusterdata\n",
    "from scipy.stats import ks_2samp\n",
    "\n",
    "import seaborn as sns\n",
    "\n",
    "from sklearn.cluster import KMeans, DBSCAN, AgglomerativeClustering\n",
    "from sklearn.decomposition import PCA\n",
    "from sklearn.manifold import TSNE\n",
    "from sklearn.metrics import silhouette_score, calinski_harabasz_score, adjusted_rand_score\n",
    "from sklearn.metrics.pairwise import pairwise_distances\n",
    "from sklearn.preprocessing import StandardScaler\n",
    "\n",
    "import sqlite3\n",
    "\n",
    "import umap"
   ]
  },
  {
   "cell_type": "markdown",
   "id": "825dcdcf",
   "metadata": {},
   "source": [
    "# Création des fiches client"
   ]
  },
  {
   "cell_type": "markdown",
   "id": "547ba6ae",
   "metadata": {},
   "source": [
    "## Agrégation"
   ]
  },
  {
   "cell_type": "code",
   "execution_count": 2,
   "id": "6045fe5a",
   "metadata": {},
   "outputs": [],
   "source": [
    "def create_client_cards(filename, query):\n",
    "    # Checking if the file 'olist.db' exists in the current directory\n",
    "    if not os.path.isfile(filename):\n",
    "        # If the file is not found, print an error message and exit the program\n",
    "        print(f\"Le fichier {filename} n'a pas été trouvé dans le répertoire courant.\")\n",
    "        exit()\n",
    "\n",
    "    # Connecting to the SQLite database 'olist.db'\n",
    "    conn = sqlite3.connect(filename)\n",
    "\n",
    "    # Creating a cursor object for executing SQL commands\n",
    "    cursor = conn.cursor()\n",
    "    \n",
    "    data = pd.read_sql_query(query, conn)\n",
    "    \n",
    "    # Close the connection\n",
    "    conn.close()\n",
    "\n",
    "    return data"
   ]
  },
  {
   "cell_type": "markdown",
   "id": "8654f28a",
   "metadata": {},
   "source": [
    "## Transformation\n"
   ]
  },
  {
   "cell_type": "code",
   "execution_count": 3,
   "id": "913858db",
   "metadata": {},
   "outputs": [],
   "source": [
    "def fill_df(data, distances):\n",
    "    raw_df = data.copy()\n",
    "    \n",
    "    ## Feature creation\n",
    "    # Total spent\n",
    "    raw_df['total_spent'] = raw_df['nb_orders']*raw_df['average_basket']\n",
    "    \n",
    "    # Distance from warehouse\n",
    "    raw_df['distance_to_warehouse'] = raw_df['customer_state'].map(distances)\n",
    "    \n",
    "    return raw_df"
   ]
  },
  {
   "cell_type": "markdown",
   "id": "e5a7f6f3",
   "metadata": {},
   "source": [
    "### Imputation"
   ]
  },
  {
   "cell_type": "code",
   "execution_count": 4,
   "id": "2d5fe537",
   "metadata": {},
   "outputs": [],
   "source": [
    "def impute_df(raw_df):\n",
    "    imputed_df = raw_df.copy()\n",
    "    \n",
    "    imputed_df['average_review_score'].fillna(3, inplace=True)\n",
    "    \n",
    "    return imputed_df"
   ]
  },
  {
   "cell_type": "markdown",
   "id": "b9be99f0",
   "metadata": {},
   "source": [
    "### Transformation des types de colonne"
   ]
  },
  {
   "cell_type": "code",
   "execution_count": 5,
   "id": "30a0ee74",
   "metadata": {},
   "outputs": [],
   "source": [
    "def transform_df(imputed_df):\n",
    "    transformed_df = imputed_df.copy()\n",
    "    \n",
    "    # Convertir les colonnes float en float32\n",
    "    transformed_df[['seniority', 'average_review_score', 'nb_articles_moyen_par_commande', 'nb_categories_moyen_par_commande', 'average_basket', 'total_spent', 'avg_freight_value']] = transformed_df[['seniority', 'average_review_score', 'nb_articles_moyen_par_commande', 'nb_categories_moyen_par_commande', 'average_basket', 'total_spent', 'avg_freight_value']].astype('float32')\n",
    "\n",
    "    # Convertir les colonnes int en int16\n",
    "    transformed_df[['nb_reviews', 'nb_orders', 'nb_mode_paiement', 'nb_canceled', 'distance_to_warehouse']] = transformed_df[['nb_reviews', 'nb_orders', 'nb_mode_paiement', 'nb_canceled', 'distance_to_warehouse']].astype('int16')\n",
    "    \n",
    "    return transformed_df"
   ]
  },
  {
   "cell_type": "markdown",
   "id": "710405bc",
   "metadata": {},
   "source": [
    "### Scaler"
   ]
  },
  {
   "cell_type": "code",
   "execution_count": 6,
   "id": "d4ca8e6d",
   "metadata": {},
   "outputs": [],
   "source": [
    "def scale_df(transformed_df):\n",
    "    scaled_df = transformed_df.copy()\n",
    "    \n",
    "    # Scale the features using StandardScaler\n",
    "    scaler = StandardScaler()\n",
    "    scaled_df[scaled_df.select_dtypes(exclude='object').columns] = scaler.fit_transform(scaled_df.select_dtypes(exclude='object'))\n",
    "\n",
    "    # Encodage One-Hot\n",
    "    scaled_df = pd.get_dummies(scaled_df, columns=['customer_state', 'mode_de_paiement_majoritaire'])\n",
    "\n",
    "    return scaled_df"
   ]
  },
  {
   "cell_type": "code",
   "execution_count": 7,
   "id": "fb2cdb75",
   "metadata": {},
   "outputs": [],
   "source": [
    "def create_df(filename, query, distances):\n",
    "    data = create_client_cards(filename, query)\n",
    "    raw_df = fill_df(data, distances)\n",
    "    imputed_df = impute_df(raw_df)\n",
    "    transformed_df = transform_df(imputed_df)\n",
    "    scaled_df = scale_df(transformed_df)\n",
    "    df = scaled_df.copy()\n",
    "    \n",
    "    return df"
   ]
  },
  {
   "cell_type": "code",
   "execution_count": null,
   "id": "b9b6cb1e",
   "metadata": {},
   "outputs": [],
   "source": []
  },
  {
   "cell_type": "code",
   "execution_count": 8,
   "id": "6c63c0a2",
   "metadata": {},
   "outputs": [],
   "source": [
    "filename = 'olist.db'"
   ]
  },
  {
   "cell_type": "code",
   "execution_count": 10,
   "id": "a0549c4d",
   "metadata": {},
   "outputs": [],
   "source": [
    "query = \"\"\"\n",
    "WITH order_items_count AS (\n",
    "  SELECT\n",
    "    order_id,\n",
    "    COUNT(*) AS nb_articles,\n",
    "    COUNT(DISTINCT product_id) AS nb_categories,\n",
    "    AVG(freight_value) AS avg_freight_value\n",
    "  FROM\n",
    "    order_items\n",
    "  GROUP BY\n",
    "    order_id\n",
    "), customer_averages AS (\n",
    "  SELECT\n",
    "    o.customer_id,\n",
    "    AVG(oic.nb_articles) AS nb_articles_moyen_par_commande,\n",
    "    AVG(oic.nb_categories) AS nb_categories_moyen_par_commande,\n",
    "    AVG(oic.avg_freight_value) AS avg_freight_value\n",
    "  FROM\n",
    "    orders o\n",
    "  JOIN\n",
    "    order_items_count oic ON o.order_id = oic.order_id\n",
    "  GROUP BY\n",
    "    o.customer_id\n",
    "), payment_counts AS (\n",
    "  SELECT\n",
    "    order_id,\n",
    "    payment_type,\n",
    "    COUNT(*) AS count\n",
    "  FROM\n",
    "    order_pymts\n",
    "  GROUP BY\n",
    "    order_id,\n",
    "    payment_type\n",
    "), major_payment AS (\n",
    "  SELECT\n",
    "    order_id,\n",
    "    payment_type AS mode_de_paiement_majoritaire\n",
    "  FROM\n",
    "    payment_counts\n",
    "  WHERE\n",
    "    (order_id, count) IN (\n",
    "      SELECT\n",
    "        order_id,\n",
    "        MAX(count)\n",
    "      FROM\n",
    "        payment_counts\n",
    "      GROUP BY\n",
    "        order_id\n",
    "    )\n",
    "), payment_modes AS (\n",
    "  SELECT\n",
    "    o.customer_id,\n",
    "    COUNT(DISTINCT op.payment_type) AS nb_mode_paiement\n",
    "  FROM\n",
    "    orders o\n",
    "  JOIN\n",
    "    order_pymts op ON o.order_id = op.order_id\n",
    "  GROUP BY\n",
    "    o.customer_id\n",
    ")\n",
    "SELECT\n",
    "  c.customer_unique_id,\n",
    "  (JULIANDAY('2018-10-17') - JULIANDAY(MIN(o.order_purchase_timestamp))) AS seniority,\n",
    "  COUNT(DISTINCT or_reviews.order_id) AS nb_reviews,\n",
    "  AVG(or_reviews.review_score) AS average_review_score,\n",
    "  COUNT(DISTINCT o.order_id) AS nb_orders,\n",
    "  AVG(oi.price) AS average_basket,\n",
    "  SUM(CASE WHEN o.order_status = 'canceled' THEN 1 ELSE 0 END) AS nb_canceled,\n",
    "  ca.nb_articles_moyen_par_commande,\n",
    "  ca.nb_categories_moyen_par_commande,\n",
    "  c.customer_state,\n",
    "  mp.mode_de_paiement_majoritaire,\n",
    "  pm.nb_mode_paiement,\n",
    "  ca.avg_freight_value\n",
    "FROM\n",
    "  customers c\n",
    "JOIN\n",
    "  orders o ON c.customer_id = o.customer_id\n",
    "LEFT JOIN\n",
    "  order_reviews or_reviews ON o.order_id = or_reviews.order_id\n",
    "JOIN\n",
    "  order_items oi ON o.order_id = oi.order_id\n",
    "JOIN\n",
    "  customer_averages ca ON c.customer_id = ca.customer_id\n",
    "LEFT JOIN\n",
    "  major_payment mp ON o.order_id = mp.order_id\n",
    "JOIN\n",
    "  payment_modes pm ON c.customer_id = pm.customer_id\n",
    "GROUP BY\n",
    "  c.customer_unique_id;\n",
    "\"\"\""
   ]
  },
  {
   "cell_type": "code",
   "execution_count": 11,
   "id": "8e89b2e5",
   "metadata": {},
   "outputs": [],
   "source": [
    "distances = {\n",
    "    'SP': 350,  # São Paulo\n",
    "    'SC': 250,  # Santa Catarina\n",
    "    'PA': 3000, # Pará\n",
    "    'PR': 0,    # Paraná (Curitiba is the capital)\n",
    "    'RJ': 1000, # Rio de Janeiro\n",
    "    'MA': 3500, # Maranhão\n",
    "    'ES': 1200, # Espírito Santo\n",
    "    'RS': 500,  # Rio Grande do Sul\n",
    "    'MG': 1000, # Minas Gerais\n",
    "    'GO': 1200, # Goiás\n",
    "    'DF': 1500, # Distrito Federal\n",
    "    'BA': 2500, # Bahia\n",
    "    'MT': 2000, # Mato Grosso\n",
    "    'SE': 2500, # Sergipe\n",
    "    'TO': 3000, # Tocantins\n",
    "    'PE': 3500, # Pernambuco\n",
    "    'CE': 4000, # Ceará\n",
    "    'AL': 3500, # Alagoas\n",
    "    'AC': 4000, # Acre\n",
    "    'PI': 3500, # Piauí\n",
    "    'PB': 3000, # Paraíba\n",
    "    'RN': 3000, # Rio Grande do Norte\n",
    "    'AM': 4000, # Amazonas\n",
    "    'MS': 1000, # Mato Grosso do Sul\n",
    "    'RR': 4500, # Roraima\n",
    "    'AP': 4500, # Amapá\n",
    "    'RO': 4000, # Rondônia\n",
    "}"
   ]
  },
  {
   "cell_type": "code",
   "execution_count": 12,
   "id": "b791730f",
   "metadata": {},
   "outputs": [],
   "source": [
    "test_df = create_df(filename, query, distances)"
   ]
  },
  {
   "cell_type": "code",
   "execution_count": 29,
   "id": "3f7acc5c",
   "metadata": {},
   "outputs": [
    {
     "name": "stdout",
     "output_type": "stream",
     "text": [
      "Clients ayant effectuer plus d'une commande : 3.05 %\n"
     ]
    }
   ],
   "source": [
    "percent_clients_with_multiple_order = len(test_df[test_df['nb_orders']>1])/len(test_df)\n",
    "print(f\"Clients ayant effectuer plus d'une commande : {(percent_clients_with_multiple_order*100):.2f} %\")"
   ]
  },
  {
   "cell_type": "markdown",
   "id": "49a48f44",
   "metadata": {},
   "source": [
    "# Création des dfs"
   ]
  },
  {
   "cell_type": "code",
   "execution_count": 16,
   "id": "65f11676",
   "metadata": {},
   "outputs": [
    {
     "name": "stdout",
     "output_type": "stream",
     "text": [
      "2018-03-01 ...\n",
      "2018-03-15 ...\n",
      "2018-03-29 ...\n",
      "2018-04-12 ...\n",
      "2018-04-26 ...\n",
      "2018-05-10 ...\n",
      "2018-05-24 ...\n",
      "2018-06-07 ...\n",
      "2018-06-21 ...\n",
      "2018-07-05 ...\n",
      "2018-07-19 ...\n",
      "2018-08-02 ...\n"
     ]
    }
   ],
   "source": [
    "start_date = pd.to_datetime('2017-09-01')\n",
    "#absolute_start_date = pd.to_datetime('2016-09-01')\n",
    "end_date = pd.to_datetime('2018-03-01')\n",
    "final_end_date = pd.to_datetime('2018-09-01')\n",
    "\n",
    "dfs_months = []\n",
    "\n",
    "n_weeks = int((final_end_date - end_date)/np.timedelta64(2, 'W'))\n",
    "\n",
    "conn = sqlite3.connect('olist.db')\n",
    "\n",
    "# Création des dataframes pour chaque période de mois\n",
    "for i in range(0, n_weeks-1):\n",
    "    print(end_date.strftime('%Y-%m-%d'), '...')\n",
    "    data = pd.read_sql_query(f\"\"\"\n",
    "        WITH order_items_count AS (\n",
    "          SELECT\n",
    "            order_id,\n",
    "            COUNT(*) AS nb_articles,\n",
    "            COUNT(DISTINCT product_id) AS nb_categories,\n",
    "            AVG(freight_value) AS avg_freight_value\n",
    "          FROM\n",
    "            order_items\n",
    "          GROUP BY\n",
    "            order_id\n",
    "        ), customer_averages AS (\n",
    "          SELECT\n",
    "            o.customer_id,\n",
    "            AVG(oic.nb_articles) AS nb_articles_moyen_par_commande,\n",
    "            AVG(oic.nb_categories) AS nb_categories_moyen_par_commande,\n",
    "            AVG(oic.avg_freight_value) AS avg_freight_value\n",
    "          FROM\n",
    "            orders o\n",
    "          JOIN\n",
    "            order_items_count oic ON o.order_id = oic.order_id\n",
    "          WHERE\n",
    "            o.order_purchase_timestamp BETWEEN '{start_date.strftime('%Y-%m-%d')}' AND '{end_date.strftime('%Y-%m-%d')}'\n",
    "          GROUP BY\n",
    "            o.customer_id\n",
    "        ), payment_counts AS (\n",
    "          SELECT\n",
    "            order_id,\n",
    "            payment_type,\n",
    "            COUNT(*) AS count\n",
    "          FROM\n",
    "            order_pymts\n",
    "          GROUP BY\n",
    "            order_id,\n",
    "            payment_type\n",
    "        ), major_payment AS (\n",
    "          SELECT\n",
    "            order_id,\n",
    "            payment_type AS mode_de_paiement_majoritaire\n",
    "          FROM\n",
    "            payment_counts\n",
    "          WHERE\n",
    "            (order_id, count) IN (\n",
    "              SELECT\n",
    "                order_id,\n",
    "                MAX(count)\n",
    "              FROM\n",
    "                payment_counts\n",
    "              GROUP BY\n",
    "                order_id\n",
    "            )\n",
    "        ), payment_modes AS (\n",
    "          SELECT\n",
    "            o.customer_id,\n",
    "            COUNT(DISTINCT op.payment_type) AS nb_mode_paiement\n",
    "          FROM\n",
    "            orders o\n",
    "          JOIN\n",
    "            order_pymts op ON o.order_id = op.order_id\n",
    "          WHERE\n",
    "            o.order_purchase_timestamp BETWEEN '{start_date.strftime('%Y-%m-%d')}' AND '{end_date.strftime('%Y-%m-%d')}'\n",
    "          GROUP BY\n",
    "            o.customer_id\n",
    "        )\n",
    "        SELECT\n",
    "          c.customer_unique_id,\n",
    "          (JULIANDAY('2018-10-17') - JULIANDAY(MIN(o.order_purchase_timestamp))) AS seniority,\n",
    "          COUNT(or_reviews.order_id) AS nb_reviews,\n",
    "          AVG(or_reviews.review_score) AS average_review_score,\n",
    "          COUNT(o.order_id) AS nb_orders,\n",
    "          AVG(oi.price) AS average_basket,\n",
    "          SUM(CASE WHEN o.order_status = 'canceled' THEN 1 ELSE 0 END) AS nb_canceled,\n",
    "          ca.nb_articles_moyen_par_commande,\n",
    "          ca.nb_categories_moyen_par_commande,\n",
    "          c.customer_state,\n",
    "          mp.mode_de_paiement_majoritaire,\n",
    "          pm.nb_mode_paiement,\n",
    "          ca.avg_freight_value\n",
    "        FROM\n",
    "          customers c\n",
    "        JOIN\n",
    "          orders o ON c.customer_id = o.customer_id\n",
    "        LEFT JOIN\n",
    "          order_reviews or_reviews ON o.order_id = or_reviews.order_id\n",
    "        JOIN\n",
    "          order_items oi ON o.order_id = oi.order_id\n",
    "        JOIN\n",
    "          customer_averages ca ON c.customer_id = ca.customer_id\n",
    "        LEFT JOIN\n",
    "          major_payment mp ON o.order_id = mp.order_id\n",
    "        JOIN\n",
    "          payment_modes pm ON c.customer_id = pm.customer_id\n",
    "        WHERE\n",
    "          o.order_purchase_timestamp BETWEEN '{start_date.strftime('%Y-%m-%d')}' AND '{end_date.strftime('%Y-%m-%d')}'\n",
    "        GROUP BY\n",
    "          c.customer_unique_id\n",
    "        \"\"\", conn)\n",
    "\n",
    "    raw_df = fill_df(data, distances)\n",
    "    imputed_df = impute_df(raw_df)\n",
    "    transformed_df = transform_df(imputed_df)\n",
    "    df_months = scale_df(transformed_df)\n",
    "        \n",
    "    # Ajout d'un préfixe au nom du dataframe pour indiquer la période de mois correspondante\n",
    "    dfs_months.append(df_months)\n",
    "    \n",
    "    end_date = end_date + pd.DateOffset(weeks=2)\n",
    "conn.close()"
   ]
  },
  {
   "cell_type": "markdown",
   "id": "0fdc1180",
   "metadata": {},
   "source": [
    "# Kmeans"
   ]
  },
  {
   "cell_type": "code",
   "execution_count": 17,
   "id": "c1fb6f11",
   "metadata": {},
   "outputs": [],
   "source": [
    "features = ['nb_orders', 'average_review_score', 'average_basket', 'nb_articles_moyen_par_commande',]"
   ]
  },
  {
   "cell_type": "code",
   "execution_count": 18,
   "id": "bae08a4c",
   "metadata": {},
   "outputs": [
    {
     "data": {
      "text/html": [
       "<div>\n",
       "<style scoped>\n",
       "    .dataframe tbody tr th:only-of-type {\n",
       "        vertical-align: middle;\n",
       "    }\n",
       "\n",
       "    .dataframe tbody tr th {\n",
       "        vertical-align: top;\n",
       "    }\n",
       "\n",
       "    .dataframe thead th {\n",
       "        text-align: right;\n",
       "    }\n",
       "</style>\n",
       "<table border=\"1\" class=\"dataframe\">\n",
       "  <thead>\n",
       "    <tr style=\"text-align: right;\">\n",
       "      <th></th>\n",
       "      <th>nb_orders</th>\n",
       "      <th>average_review_score</th>\n",
       "      <th>average_basket</th>\n",
       "      <th>nb_articles_moyen_par_commande</th>\n",
       "    </tr>\n",
       "  </thead>\n",
       "  <tbody>\n",
       "    <tr>\n",
       "      <th>count</th>\n",
       "      <td>3.492800e+04</td>\n",
       "      <td>3.492800e+04</td>\n",
       "      <td>3.492800e+04</td>\n",
       "      <td>3.492800e+04</td>\n",
       "    </tr>\n",
       "    <tr>\n",
       "      <th>mean</th>\n",
       "      <td>-1.354279e-08</td>\n",
       "      <td>-6.334529e-09</td>\n",
       "      <td>-9.829442e-10</td>\n",
       "      <td>-1.671005e-08</td>\n",
       "    </tr>\n",
       "    <tr>\n",
       "      <th>std</th>\n",
       "      <td>1.000133e+00</td>\n",
       "      <td>1.000103e+00</td>\n",
       "      <td>1.000005e+00</td>\n",
       "      <td>1.000083e+00</td>\n",
       "    </tr>\n",
       "    <tr>\n",
       "      <th>min</th>\n",
       "      <td>-3.014578e-01</td>\n",
       "      <td>-2.185296e+00</td>\n",
       "      <td>-7.025657e-01</td>\n",
       "      <td>-2.601937e-01</td>\n",
       "    </tr>\n",
       "    <tr>\n",
       "      <th>25%</th>\n",
       "      <td>-3.014578e-01</td>\n",
       "      <td>-7.338457e-01</td>\n",
       "      <td>-4.661989e-01</td>\n",
       "      <td>-2.601937e-01</td>\n",
       "    </tr>\n",
       "    <tr>\n",
       "      <th>50%</th>\n",
       "      <td>-3.014578e-01</td>\n",
       "      <td>7.176040e-01</td>\n",
       "      <td>-2.571790e-01</td>\n",
       "      <td>-2.601937e-01</td>\n",
       "    </tr>\n",
       "    <tr>\n",
       "      <th>75%</th>\n",
       "      <td>-3.014578e-01</td>\n",
       "      <td>7.176040e-01</td>\n",
       "      <td>9.641301e-02</td>\n",
       "      <td>-2.601937e-01</td>\n",
       "    </tr>\n",
       "    <tr>\n",
       "      <th>max</th>\n",
       "      <td>3.331986e+01</td>\n",
       "      <td>7.176040e-01</td>\n",
       "      <td>2.070868e+01</td>\n",
       "      <td>3.406841e+01</td>\n",
       "    </tr>\n",
       "  </tbody>\n",
       "</table>\n",
       "</div>"
      ],
      "text/plain": [
       "          nb_orders  average_review_score  average_basket  \\\n",
       "count  3.492800e+04          3.492800e+04    3.492800e+04   \n",
       "mean  -1.354279e-08         -6.334529e-09   -9.829442e-10   \n",
       "std    1.000133e+00          1.000103e+00    1.000005e+00   \n",
       "min   -3.014578e-01         -2.185296e+00   -7.025657e-01   \n",
       "25%   -3.014578e-01         -7.338457e-01   -4.661989e-01   \n",
       "50%   -3.014578e-01          7.176040e-01   -2.571790e-01   \n",
       "75%   -3.014578e-01          7.176040e-01    9.641301e-02   \n",
       "max    3.331986e+01          7.176040e-01    2.070868e+01   \n",
       "\n",
       "       nb_articles_moyen_par_commande  \n",
       "count                    3.492800e+04  \n",
       "mean                    -1.671005e-08  \n",
       "std                      1.000083e+00  \n",
       "min                     -2.601937e-01  \n",
       "25%                     -2.601937e-01  \n",
       "50%                     -2.601937e-01  \n",
       "75%                     -2.601937e-01  \n",
       "max                      3.406841e+01  "
      ]
     },
     "execution_count": 18,
     "metadata": {},
     "output_type": "execute_result"
    }
   ],
   "source": [
    "dfs_months[0][features].describe()"
   ]
  },
  {
   "cell_type": "markdown",
   "id": "389d4b9e",
   "metadata": {},
   "source": [
    "### Paramétrage des centroides initiaux (obsolète)"
   ]
  },
  {
   "cell_type": "raw",
   "id": "44ec95d5",
   "metadata": {},
   "source": [
    "1) Choisir le nombre de features\n",
    "2) Définir un profil type par cluster en fonction des features\n",
    "3) Créer un np.array avec autant de lignes que de clusters et autant de positions que de features.\n",
    "   Chaque position doit correspondre à une tendance pour une feature\n",
    "   Exemple :\n",
    "       fixed_centroids = np.array([\n",
    "            [10, 2, 1],  # Nouveau client : dépenses moyennes faibles, faible nombre de commandes, faible ancienneté\n",
    "            [100, 50, 5],  # Client fidèle : dépense moyenne élevée, nombre de commandes élevé, ancienneté élevée\n",
    "            [50, 10, 3],  # Client occasionnel : dépenses moyennes modérées, nombre de commandes modéré, ancienneté modérée\n",
    "            [20, 5, 10]  # Client inactif : dépenses moyennes faibles, nombre de commandes faible, ancienneté élevée\n",
    "        ])\n",
    "4) Ajouter cet array au modèle :\n",
    "    kmeans = KMeans(n_clusters=n_clusters, init=fixed_centroids, n_init=1)\n"
   ]
  },
  {
   "cell_type": "code",
   "execution_count": 19,
   "id": "71f7cf5a",
   "metadata": {},
   "outputs": [],
   "source": [
    "# Nombre de clusters : 4\n",
    "# Nombre de features : 4\n",
    "\n",
    "fixed_centroids = np.array([\n",
    "            [0, 0.5, 0, 0],  \n",
    "            [0, -1.5, 0, 0],  \n",
    "            [4.5, -0.5, 0, 4.5],  \n",
    "            [0, 0, 4.5, 0]  \n",
    "        ])"
   ]
  },
  {
   "cell_type": "markdown",
   "id": "c4d82f6d",
   "metadata": {},
   "source": [
    "### Entraînement de tous les df"
   ]
  },
  {
   "cell_type": "code",
   "execution_count": null,
   "id": "1fa629c2",
   "metadata": {},
   "outputs": [],
   "source": [
    "# Entraîner un modèle KMeans sur le premier DataFrame de la liste\n",
    "kmeans_first = KMeans(n_clusters=4, random_state=18, n_init=10, init=fixed_centroids)\n",
    "kmeans_first.fit(dfs_months[0][features])\n",
    "\n",
    "# Conserver les étiquettes de cluster pour le jeu de données de test avec le premier modèle\n",
    "labels_test_first = kmeans_first.predict(test_df[features])\n",
    "\n",
    "# Liste pour conserver les ARI scores de la première méthode de comparaison\n",
    "ari_scores_first = []\n",
    "\n",
    "for df_months in dfs_months[1:]:  # Ignorer le premier DataFrame\n",
    "\n",
    "    # Entraîner un modèle KMeans sur le DataFrame actuel\n",
    "    kmeans = KMeans(n_clusters=4, random_state=18, n_init=10, init=fixed_centroids)\n",
    "    kmeans.fit(df_months[features])\n",
    "\n",
    "    # Tester les prédictions sur le jeu de données de test\n",
    "    labels_test_current = kmeans.predict(test_df[features])\n",
    "\n",
    "    # Calculer le ARI score entre les prédictions du premier modèle et celles du modèle actuel\n",
    "    ari_score = adjusted_rand_score(labels_test_first, labels_test_current)\n",
    "    ari_scores_first.append(ari_score)"
   ]
  },
  {
   "cell_type": "code",
   "execution_count": 28,
   "id": "dfde1889",
   "metadata": {},
   "outputs": [
    {
     "data": {
      "image/png": "[encoded data removed]",
      "text/plain": [
       "<Figure size 1000x600 with 1 Axes>"
      ]
     },
     "metadata": {},
     "output_type": "display_data"
    }
   ],
   "source": [
    "# Plot the results\n",
    "plt.figure(figsize=(10, 6))\n",
    "plt.plot(range(1, len(dfs_months)), ari_scores_first, marker='o')\n",
    "plt.xlabel(\"DataFrame Index\")\n",
    "plt.ylabel(\"ARI Score\")\n",
    "plt.title(\"Évolution des ARI Scores (n init vs n)\")\n",
    "plt.grid(True)\n",
    "plt.show()"
   ]
  },
  {
   "cell_type": "markdown",
   "id": "9abb8692",
   "metadata": {},
   "source": [
    "# Annexe"
   ]
  },
  {
   "cell_type": "code",
   "execution_count": null,
   "id": "dabb18a7",
   "metadata": {},
   "outputs": [],
   "source": [
    "# Fonction pour entraîner le modèle K-means et obtenir les labels\n",
    "def train_and_predict(df, n_clusters=4):\n",
    "    kmeans = KMeans(n_clusters=n_clusters, random_state=18)\n",
    "    return kmeans.fit(df[features])\n",
    "\n",
    "# Fonction pour calculer les métriques\n",
    "def calculate_metrics(df, labels):\n",
    "    silhouette = silhouette_score(df[features], labels)\n",
    "    return silhouette\n",
    "\n",
    "# Fonction pour effectuer le test de Kolmogorov-Smirnov\n",
    "def ks_test(base_df, current_df):\n",
    "    results = {}\n",
    "    for column in features:\n",
    "        statistic, p_value = ks_2samp(base_df[column], current_df[column])\n",
    "        results[column] = {'statistic': statistic, 'p_value': p_value}\n",
    "    return results"
   ]
  },
  {
   "cell_type": "code",
   "execution_count": null,
   "id": "8e9a8d8e",
   "metadata": {},
   "outputs": [],
   "source": [
    "# Entraînement du modèle initial sur les 6 premiers mois\n",
    "base_df = dfs_months[0]\n",
    "base_model = train_and_predict(base_df)"
   ]
  },
  {
   "cell_type": "code",
   "execution_count": null,
   "id": "fb29006b",
   "metadata": {},
   "outputs": [],
   "source": [
    "for df in dfs_months:\n",
    "    print(df.shape)"
   ]
  },
  {
   "cell_type": "code",
   "execution_count": null,
   "id": "ea7f92e1",
   "metadata": {},
   "outputs": [],
   "source": [
    "base_labels_test = base_model.predict(test_df[features])"
   ]
  },
  {
   "cell_type": "code",
   "execution_count": null,
   "id": "01be3af3",
   "metadata": {},
   "outputs": [],
   "source": [
    "# Initialisation des listes pour stocker les résultats\n",
    "dates = []\n",
    "silhouette_scores = []\n",
    "ari_scores = []\n",
    "centroids_distances = []\n",
    "ks_results = []\n",
    "\n",
    "for i, df in enumerate(dfs_months[1:]):  # Commencer après le premier dataframe\n",
    "    date = pd.to_datetime('2018-03-01') + pd.DateOffset(weeks=2*i)\n",
    "    dates.append(date)\n",
    "    \n",
    "    # Entraînement d'un nouveau modèle sur les données actuelles\n",
    "    current_model = train_and_predict(df)\n",
    "    current_labels = current_model.labels_\n",
    "    \n",
    "    # Calcul des métriques\n",
    "    silhouette = calculate_metrics(df, current_labels)\n",
    "    silhouette_scores.append(silhouette)\n",
    "    \n",
    "    # Prédiction sur test_df avec le modèle actuel\n",
    "    current_labels_test = current_model.predict(test_df[features])\n",
    "    \n",
    "    # Calcul de l'ARI score\n",
    "    ari = adjusted_rand_score(base_labels_test, current_labels_test)\n",
    "    ari_scores.append(ari)\n",
    "    \n",
    "    # Calcul de la distance moyenne entre les centroids initiaux et actuels\n",
    "    centroid_dist = np.mean([np.linalg.norm(c1-c2) for c1, c2 in zip(base_model.cluster_centers_, current_model.cluster_centers_)])\n",
    "    centroids_distances.append(centroid_dist)\n",
    "    \n",
    "    # Test de Kolmogorov-Smirnov par rapport au premier dataframe de 6 mois\n",
    "    ks_result = ks_test(base_df, df)\n",
    "    ks_results.append(ks_result)"
   ]
  },
  {
   "cell_type": "code",
   "execution_count": null,
   "id": "979dbe88",
   "metadata": {},
   "outputs": [],
   "source": [
    "results_df = pd.DataFrame({\n",
    "    'Date': dates,\n",
    "    'Silhouette Score': silhouette_scores,\n",
    "    'ARI Score': ari_scores,\n",
    "    'Centroids Distance': centroids_distances\n",
    "})\n",
    "\n",
    "# Affichage des résultats\n",
    "results_df"
   ]
  },
  {
   "cell_type": "code",
   "execution_count": null,
   "id": "c49fdd0e",
   "metadata": {},
   "outputs": [],
   "source": [
    "fig, ax1 = plt.subplots(figsize=(12, 6))\n",
    "\n",
    "ax1.set_xlabel('Date')\n",
    "ax1.set_ylabel('Scores', color='tab:blue')\n",
    "ax1.plot(results_df['Date'], results_df['Silhouette Score'], color='tab:blue', label='Silhouette Score')\n",
    "ax1.plot(results_df['Date'], results_df['ARI Score'], color='tab:green', label='ARI Score')\n",
    "ax1.tick_params(axis='y', labelcolor='tab:blue')\n",
    "\n",
    "ax2 = ax1.twinx()\n",
    "ax2.set_ylabel('Centroids Distance', color='tab:orange')\n",
    "ax2.plot(results_df['Date'], results_df['Centroids Distance'], color='tab:orange', label='Centroids Distance')\n",
    "ax2.tick_params(axis='y', labelcolor='tab:orange')\n",
    "\n",
    "fig.tight_layout()\n",
    "plt.title('Évolution des métriques de clustering au fil du temps')\n",
    "fig.legend(loc=\"upper right\", bbox_to_anchor=(1,1), bbox_transform=ax1.transAxes)\n",
    "plt.show()\n",
    "\n",
    "# Analyse des résultats du test KS\n",
    "for i, ks_result in enumerate(ks_results):\n",
    "    print(f\"\\nRésultats du test KS pour la période {dates[i]}:\")\n",
    "    for column, result in ks_result.items():\n",
    "        print(f\"{column}: Statistic = {result['statistic']:.4f}, p-value = {result['p_value']:.4f}\")"
   ]
  }
 ],
 "metadata": {
  "kernelspec": {
   "display_name": "Python 3 (ipykernel)",
   "language": "python",
   "name": "python3"
  },
  "language_info": {
   "codemirror_mode": {
    "name": "ipython",
    "version": 3
   },
   "file_extension": ".py",
   "mimetype": "text/x-python",
   "name": "python",
   "nbconvert_exporter": "python",
   "pygments_lexer": "ipython3",
   "version": "3.11.5"
  }
 },
 "nbformat": 4,
 "nbformat_minor": 5
}
